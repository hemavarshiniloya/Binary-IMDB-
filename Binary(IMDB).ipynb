{
  "cells": [
    {
      "cell_type": "markdown",
      "id": "58b01cc8",
      "metadata": {
        "id": "58b01cc8"
      },
      "source": [
        "# Design a neural network for classifying movie reviews (Binary Classification) using IMDB dataset."
      ]
    },
    {
      "cell_type": "code",
      "execution_count": null,
      "id": "bd474052",
      "metadata": {
        "id": "bd474052"
      },
      "outputs": [],
      "source": [
        "from keras.datasets import imdb"
      ]
    },
    {
      "cell_type": "code",
      "execution_count": null,
      "id": "98064b0e",
      "metadata": {
        "colab": {
          "base_uri": "https://localhost:8080/"
        },
        "id": "98064b0e",
        "outputId": "e9bddc84-1701-4e73-c7a4-bd1336ed402a"
      },
      "outputs": [
        {
          "output_type": "stream",
          "name": "stdout",
          "text": [
            "Downloading data from https://storage.googleapis.com/tensorflow/tf-keras-datasets/imdb.npz\n",
            "17464789/17464789 [==============================] - 0s 0us/step\n"
          ]
        }
      ],
      "source": [
        "(X_train,y_train),(X_test,y_test) =imdb.load_data(num_words=10000)"
      ]
    },
    {
      "cell_type": "code",
      "execution_count": null,
      "id": "079640c8",
      "metadata": {
        "colab": {
          "base_uri": "https://localhost:8080/"
        },
        "id": "079640c8",
        "outputId": "3174c599-949e-46fd-aa45-8028efcfb208"
      },
      "outputs": [
        {
          "output_type": "execute_result",
          "data": {
            "text/plain": [
              "(((25000,), (25000,)), ((25000,), (25000,)))"
            ]
          },
          "metadata": {},
          "execution_count": 3
        }
      ],
      "source": [
        "(X_train.shape,y_train.shape),(X_test.shape,y_test.shape)"
      ]
    },
    {
      "cell_type": "code",
      "execution_count": null,
      "id": "2652d235",
      "metadata": {
        "colab": {
          "base_uri": "https://localhost:8080/"
        },
        "id": "2652d235",
        "outputId": "199b07f5-e4ce-492e-d367-b182db4c01f4"
      },
      "outputs": [
        {
          "output_type": "stream",
          "name": "stdout",
          "text": [
            "Downloading data from https://storage.googleapis.com/tensorflow/tf-keras-datasets/imdb_word_index.json\n",
            "1641221/1641221 [==============================] - 0s 0us/step\n"
          ]
        }
      ],
      "source": [
        "word_index=imdb.get_word_index()"
      ]
    },
    {
      "cell_type": "code",
      "execution_count": null,
      "id": "8ad33632",
      "metadata": {
        "id": "8ad33632"
      },
      "outputs": [],
      "source": [
        "reverse_word_index = dict([(key,value) for (value,key) in word_index.items()])"
      ]
    },
    {
      "cell_type": "code",
      "execution_count": null,
      "id": "7601436b",
      "metadata": {
        "id": "7601436b"
      },
      "outputs": [],
      "source": [
        "def vectorize_sequences(sequences,dimensions=10000):\n",
        "    results = np.zeros((len(sequences),dimensions))\n",
        "    for (i,sequence) in enumerate(sequences):\n",
        "        results[i,sequence]=1\n",
        "    return results"
      ]
    },
    {
      "cell_type": "code",
      "execution_count": null,
      "id": "371b6528",
      "metadata": {
        "id": "371b6528"
      },
      "outputs": [],
      "source": [
        "import numpy as np\n",
        "X_train_seq = vectorize_sequences(X_train)"
      ]
    },
    {
      "cell_type": "code",
      "execution_count": null,
      "id": "ded69c2c",
      "metadata": {
        "colab": {
          "base_uri": "https://localhost:8080/"
        },
        "id": "ded69c2c",
        "outputId": "4950dbfc-5b35-43a7-e7a0-bf3518fc4f88"
      },
      "outputs": [
        {
          "output_type": "execute_result",
          "data": {
            "text/plain": [
              "array([[0., 1., 1., ..., 0., 0., 0.],\n",
              "       [0., 1., 1., ..., 0., 0., 0.],\n",
              "       [0., 1., 1., ..., 0., 0., 0.],\n",
              "       ...,\n",
              "       [0., 1., 1., ..., 0., 0., 0.],\n",
              "       [0., 1., 1., ..., 0., 0., 0.],\n",
              "       [0., 1., 1., ..., 0., 0., 0.]])"
            ]
          },
          "metadata": {},
          "execution_count": 8
        }
      ],
      "source": [
        "X_train_seq"
      ]
    },
    {
      "cell_type": "code",
      "execution_count": null,
      "id": "8ca94cd3",
      "metadata": {
        "id": "8ca94cd3"
      },
      "outputs": [],
      "source": [
        "X_test_seq = vectorize_sequences(X_test)"
      ]
    },
    {
      "cell_type": "code",
      "execution_count": null,
      "id": "92dfcd1a",
      "metadata": {
        "colab": {
          "base_uri": "https://localhost:8080/"
        },
        "id": "92dfcd1a",
        "outputId": "6b3ad8f5-1bf6-4df9-c343-ea0a364fa979"
      },
      "outputs": [
        {
          "output_type": "execute_result",
          "data": {
            "text/plain": [
              "array([[0., 1., 1., ..., 0., 0., 0.],\n",
              "       [0., 1., 1., ..., 0., 0., 0.],\n",
              "       [0., 1., 1., ..., 0., 0., 0.],\n",
              "       ...,\n",
              "       [0., 1., 1., ..., 0., 0., 0.],\n",
              "       [0., 1., 1., ..., 0., 0., 0.],\n",
              "       [0., 1., 1., ..., 0., 0., 0.]])"
            ]
          },
          "metadata": {},
          "execution_count": 10
        }
      ],
      "source": [
        "X_test_seq"
      ]
    },
    {
      "cell_type": "code",
      "execution_count": null,
      "id": "8a2c717b",
      "metadata": {
        "id": "8a2c717b"
      },
      "outputs": [],
      "source": [
        "from keras.models import Sequential\n",
        "from keras.layers import Dense,Dropout"
      ]
    },
    {
      "cell_type": "code",
      "execution_count": null,
      "id": "7e66d65b",
      "metadata": {
        "id": "7e66d65b"
      },
      "outputs": [],
      "source": [
        "model = Sequential()\n",
        "model.add(Dense(128,activation='relu', input_shape=(10000,)))\n",
        "model.add(Dropout(0.5))\n",
        "model.add(Dense(3,activation='sigmoid'))\n",
        "model.add(Dropout(0.2))\n",
        "model.add(Dense(1,activation='sigmoid'))"
      ]
    },
    {
      "cell_type": "code",
      "execution_count": null,
      "id": "f7e1684b",
      "metadata": {
        "id": "f7e1684b"
      },
      "outputs": [],
      "source": [
        "model.compile(loss='binary_crossentropy',optimizer='adam',metrics=['accuracy'])"
      ]
    },
    {
      "cell_type": "code",
      "execution_count": null,
      "id": "91855998",
      "metadata": {
        "colab": {
          "base_uri": "https://localhost:8080/"
        },
        "id": "91855998",
        "outputId": "981e4b29-1164-4e17-ae60-78a1f157ad84"
      },
      "outputs": [
        {
          "output_type": "stream",
          "name": "stdout",
          "text": [
            "Epoch 1/10\n",
            "250/250 [==============================] - 8s 29ms/step - loss: 0.5790 - accuracy: 0.7024 - val_loss: 0.4632 - val_accuracy: 0.8636\n",
            "Epoch 2/10\n",
            "250/250 [==============================] - 8s 34ms/step - loss: 0.4245 - accuracy: 0.8988 - val_loss: 0.4131 - val_accuracy: 0.8831\n",
            "Epoch 3/10\n",
            "250/250 [==============================] - 7s 28ms/step - loss: 0.3558 - accuracy: 0.9250 - val_loss: 0.3897 - val_accuracy: 0.8840\n",
            "Epoch 4/10\n",
            "250/250 [==============================] - 6s 23ms/step - loss: 0.3042 - accuracy: 0.9407 - val_loss: 0.3804 - val_accuracy: 0.8815\n",
            "Epoch 5/10\n",
            "250/250 [==============================] - 8s 30ms/step - loss: 0.2610 - accuracy: 0.9504 - val_loss: 0.3674 - val_accuracy: 0.8794\n",
            "Epoch 6/10\n",
            "250/250 [==============================] - 6s 22ms/step - loss: 0.2312 - accuracy: 0.9579 - val_loss: 0.3860 - val_accuracy: 0.8761\n",
            "Epoch 7/10\n",
            "250/250 [==============================] - 6s 24ms/step - loss: 0.2033 - accuracy: 0.9638 - val_loss: 0.3730 - val_accuracy: 0.8740\n",
            "Epoch 8/10\n",
            "250/250 [==============================] - 7s 27ms/step - loss: 0.1805 - accuracy: 0.9699 - val_loss: 0.3767 - val_accuracy: 0.8747\n",
            "Epoch 9/10\n",
            "250/250 [==============================] - 5s 22ms/step - loss: 0.1640 - accuracy: 0.9731 - val_loss: 0.4064 - val_accuracy: 0.8722\n",
            "Epoch 10/10\n",
            "250/250 [==============================] - 6s 23ms/step - loss: 0.1514 - accuracy: 0.9736 - val_loss: 0.3971 - val_accuracy: 0.8720\n"
          ]
        }
      ],
      "source": [
        "history = model.fit(X_train_seq,y_train,validation_data=(X_test_seq,y_test),epochs=10,batch_size=100)"
      ]
    },
    {
      "cell_type": "code",
      "execution_count": null,
      "id": "1ff595ae",
      "metadata": {
        "id": "1ff595ae"
      },
      "outputs": [],
      "source": []
    }
  ],
  "metadata": {
    "kernelspec": {
      "display_name": "Python 3 (ipykernel)",
      "language": "python",
      "name": "python3"
    },
    "language_info": {
      "codemirror_mode": {
        "name": "ipython",
        "version": 3
      },
      "file_extension": ".py",
      "mimetype": "text/x-python",
      "name": "python",
      "nbconvert_exporter": "python",
      "pygments_lexer": "ipython3",
      "version": "3.9.12"
    },
    "colab": {
      "provenance": []
    }
  },
  "nbformat": 4,
  "nbformat_minor": 5
}